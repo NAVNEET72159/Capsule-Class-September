{
 "cells": [
  {
   "cell_type": "markdown",
   "metadata": {},
   "source": [
    "# Conditionals\n",
    "* if-else\n",
    "    * normal if-else : It is used when we have only two states to check.\n",
    "    * if-elif-else : It is used when we have more than two states to check.\n",
    "    * nested if-else : It is used when we have to check a condition inside a condition.\n",
    "* match-case"
   ]
  },
  {
   "cell_type": "code",
   "execution_count": 5,
   "metadata": {},
   "outputs": [
    {
     "name": "stdout",
     "output_type": "stream",
     "text": [
      "We will have a windy day\n"
     ]
    }
   ],
   "source": [
    "weather_condition_1 = \"sunny\"\n",
    "weather_condition_2 = \"windy\"\n",
    "\n",
    "if weather_condition_1 == \"sunny\":\n",
    "    if weather_condition_2 == \"rainy\":\n",
    "        print(\"We will have a rainbow\")\n",
    "    else:\n",
    "        print(\"We will have a windy day\")\n",
    "else:\n",
    "    print(\"We will have a drop in temperature\")"
   ]
  },
  {
   "cell_type": "code",
   "execution_count": 11,
   "metadata": {},
   "outputs": [
    {
     "name": "stdout",
     "output_type": "stream",
     "text": [
      "Welcome to the system\n"
     ]
    }
   ],
   "source": [
    "username = input(\"Enter your username: \")\n",
    "password = input(\"Enter your password: \")\n",
    "\n",
    "if username == \"admin\":\n",
    "    if password == \"admin\":\n",
    "        print(\"Welcome to the system\")\n",
    "    else:\n",
    "        print(\"Invalid password\")\n",
    "else:\n",
    "    print(\"Invalid username\")"
   ]
  },
  {
   "cell_type": "code",
   "execution_count": 13,
   "metadata": {},
   "outputs": [
    {
     "name": "stdout",
     "output_type": "stream",
     "text": [
      "Welcome to the system\n"
     ]
    }
   ],
   "source": [
    "username = input(\"Enter your username: \")\n",
    "password = input(\"Enter your password: \")\n",
    "\n",
    "if username == \"admin\" and password == \"admin\":\n",
    "    print(\"Welcome to the system\")\n",
    "else:\n",
    "    print(\"Invalid username or password\")"
   ]
  },
  {
   "cell_type": "markdown",
   "metadata": {},
   "source": [
    "# Match-case: \n",
    "* It is used to check multiple conditions in a single line.\n",
    "* It is similar to switch-case in other languages.\n",
    "* It is also used as an alternative to if-elif-else."
   ]
  },
  {
   "cell_type": "markdown",
   "metadata": {},
   "source": [
    "# Write a program to check whether a number is positive, negative or zero."
   ]
  },
  {
   "cell_type": "code",
   "execution_count": 6,
   "metadata": {},
   "outputs": [],
   "source": [
    "num = input(\"Enter a number: \")\n",
    "\n",
    "match num: \n",
    "    case '1':\n",
    "        print(\"One\")\n",
    "    case '2':\n",
    "        print(\"Two\")\n",
    "    case '3':\n",
    "        print(\"Three\")\n",
    "    case _:\n",
    "        print(\"Invalid number\")"
   ]
  },
  {
   "cell_type": "code",
   "execution_count": null,
   "metadata": {},
   "outputs": [],
   "source": []
  }
 ],
 "metadata": {
  "kernelspec": {
   "display_name": "base",
   "language": "python",
   "name": "python3"
  },
  "language_info": {
   "codemirror_mode": {
    "name": "ipython",
    "version": 3
   },
   "file_extension": ".py",
   "mimetype": "text/x-python",
   "name": "python",
   "nbconvert_exporter": "python",
   "pygments_lexer": "ipython3",
   "version": "3.10.9"
  },
  "orig_nbformat": 4
 },
 "nbformat": 4,
 "nbformat_minor": 2
}
