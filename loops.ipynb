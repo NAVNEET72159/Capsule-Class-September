{
 "cells": [
  {
   "cell_type": "markdown",
   "metadata": {},
   "source": [
    "# Loops\n",
    "* for : used to iterate over a sequence (list, tuple, string) or other iterable objects\n",
    "    * for loop is used when we know the number of iterations\n",
    "* while : used to iterate over a block of code as long as the test expression (condition) is true\n",
    "    * while loop is used when we don't know the number of iterations"
   ]
  },
  {
   "cell_type": "code",
   "execution_count": 1,
   "metadata": {},
   "outputs": [
    {
     "name": "stdout",
     "output_type": "stream",
     "text": [
      "Hello World\n",
      "Hello World\n",
      "Hello World\n",
      "Hello World\n",
      "Hello World\n"
     ]
    }
   ],
   "source": [
    "print(\"Hello World\")\n",
    "print(\"Hello World\")\n",
    "print(\"Hello World\")\n",
    "print(\"Hello World\")\n",
    "print(\"Hello World\")"
   ]
  },
  {
   "cell_type": "code",
   "execution_count": 1,
   "metadata": {},
   "outputs": [
    {
     "name": "stdout",
     "output_type": "stream",
     "text": [
      "Hello World\n",
      "Hello World\n",
      "Hello World\n",
      "Hello World\n",
      "Hello World\n"
     ]
    }
   ],
   "source": [
    "for i in range(5):\n",
    "    print(\"Hello World\")"
   ]
  },
  {
   "cell_type": "markdown",
   "metadata": {},
   "source": [
    "## for loop\n",
    "### Types of ranges:\n",
    "* range: range(STOP) \n",
    "    * By default, START is 0 i.e. i = 0\n",
    "    * STEPS is i.e. iterator is i++\n",
    "* range: range(START, STOP)\n",
    "    * By default, STEPS is 1 i.e. i = i + 1\n",
    "* range: range(START, STOP, STEPS)"
   ]
  },
  {
   "cell_type": "code",
   "execution_count": 4,
   "metadata": {},
   "outputs": [
    {
     "name": "stdout",
     "output_type": "stream",
     "text": [
      "Hello World\n",
      "Hello World\n",
      "Hello World\n",
      "Hello World\n",
      "Hello World\n"
     ]
    }
   ],
   "source": [
    "for i in range(0, 5):\n",
    "    print(\"Hello World\")"
   ]
  },
  {
   "cell_type": "code",
   "execution_count": 7,
   "metadata": {},
   "outputs": [
    {
     "name": "stdout",
     "output_type": "stream",
     "text": [
      "Hello World\n",
      "Hello World\n",
      "Hello World\n"
     ]
    }
   ],
   "source": [
    "for i in range(0, 5, 2): # i = i + 2\n",
    "    print(\"Hello World\")"
   ]
  },
  {
   "cell_type": "code",
   "execution_count": 8,
   "metadata": {},
   "outputs": [
    {
     "name": "stdout",
     "output_type": "stream",
     "text": [
      "Hello World\n",
      "Hello World\n"
     ]
    }
   ],
   "source": [
    "for i in range(0, 5, 3): # i = i + 3\n",
    "    print(\"Hello World\")"
   ]
  },
  {
   "cell_type": "code",
   "execution_count": 9,
   "metadata": {},
   "outputs": [],
   "source": [
    "# for (i = 0; i < 10; i++)"
   ]
  },
  {
   "cell_type": "markdown",
   "metadata": {},
   "source": [
    "# Write a program to print numbers from 1 to 10"
   ]
  },
  {
   "cell_type": "code",
   "execution_count": 10,
   "metadata": {},
   "outputs": [
    {
     "name": "stdout",
     "output_type": "stream",
     "text": [
      "1\n",
      "2\n",
      "3\n",
      "4\n",
      "5\n",
      "6\n",
      "7\n",
      "8\n",
      "9\n",
      "10\n"
     ]
    }
   ],
   "source": [
    "for i in range(1, 11):\n",
    "    print(i)"
   ]
  },
  {
   "cell_type": "markdown",
   "metadata": {},
   "source": [
    "# Write a program to print even number from 1 to 10"
   ]
  },
  {
   "cell_type": "code",
   "execution_count": 12,
   "metadata": {},
   "outputs": [
    {
     "name": "stdout",
     "output_type": "stream",
     "text": [
      "0\n",
      "2\n",
      "4\n",
      "6\n",
      "8\n",
      "10\n",
      "Loop is over\n"
     ]
    }
   ],
   "source": [
    "for i in range(0, 11, 2):\n",
    "    print(i)\n",
    "\n",
    "else:\n",
    "    print(\"Loop is over\")"
   ]
  },
  {
   "cell_type": "code",
   "execution_count": 13,
   "metadata": {},
   "outputs": [
    {
     "ename": "SyntaxError",
     "evalue": "invalid syntax (3984507562.py, line 1)",
     "output_type": "error",
     "traceback": [
      "\u001b[1;36m  Cell \u001b[1;32mIn[13], line 1\u001b[1;36m\u001b[0m\n\u001b[1;33m    else:\u001b[0m\n\u001b[1;37m    ^\u001b[0m\n\u001b[1;31mSyntaxError\u001b[0m\u001b[1;31m:\u001b[0m invalid syntax\n"
     ]
    }
   ],
   "source": [
    "else: \n",
    "    print(\"Loop is over\")"
   ]
  },
  {
   "cell_type": "markdown",
   "metadata": {},
   "source": [
    "# Write a program to print odd number from 1 to n"
   ]
  },
  {
   "cell_type": "code",
   "execution_count": 15,
   "metadata": {},
   "outputs": [
    {
     "name": "stdout",
     "output_type": "stream",
     "text": [
      "1\n",
      "3\n",
      "5\n",
      "7\n",
      "9\n",
      "11\n",
      "13\n",
      "15\n",
      "17\n",
      "19\n"
     ]
    }
   ],
   "source": [
    "n = int(input(\"Enter range: \"))\n",
    "for i in range(n+1):\n",
    "    if i % 2 != 0:\n",
    "        print(i)"
   ]
  },
  {
   "cell_type": "markdown",
   "metadata": {},
   "source": [
    "# Write a program to print sum of numbers from 1 to n"
   ]
  },
  {
   "cell_type": "code",
   "execution_count": 2,
   "metadata": {},
   "outputs": [
    {
     "name": "stdout",
     "output_type": "stream",
     "text": [
      "15\n"
     ]
    }
   ],
   "source": [
    "num = int(input(\"Enter number: \"))\n",
    "sum = 0\n",
    "for i in range(1, num+1):\n",
    "    sum = sum + i   # sum += i\n",
    "print(sum)"
   ]
  },
  {
   "cell_type": "markdown",
   "metadata": {},
   "source": [
    "#  Write a program to print sum of even numbers from 1 to n"
   ]
  },
  {
   "cell_type": "code",
   "execution_count": 4,
   "metadata": {},
   "outputs": [
    {
     "name": "stdout",
     "output_type": "stream",
     "text": [
      "6\n"
     ]
    }
   ],
   "source": [
    "num = int(input(\"Enter number: \"))\n",
    "sum = 0\n",
    "for i in range(1, num+1):\n",
    "    if i%2 == 0:\n",
    "        sum = sum + i\n",
    "print(sum)"
   ]
  },
  {
   "cell_type": "markdown",
   "metadata": {},
   "source": [
    "# Write a program to print sum of odd numbers from 1 to n"
   ]
  },
  {
   "cell_type": "code",
   "execution_count": 5,
   "metadata": {},
   "outputs": [
    {
     "name": "stdout",
     "output_type": "stream",
     "text": [
      "9\n"
     ]
    }
   ],
   "source": [
    "num = int(input(\"Enter number: \"))\n",
    "sum = 0\n",
    "for i in range(1, num+1):\n",
    "    if i%2 != 0:\n",
    "        sum = sum + i\n",
    "\n",
    "print(sum)"
   ]
  },
  {
   "cell_type": "markdown",
   "metadata": {},
   "source": [
    "# Write a program to print sum of squares of numbers from 1 to n"
   ]
  },
  {
   "cell_type": "code",
   "execution_count": 6,
   "metadata": {},
   "outputs": [
    {
     "name": "stdout",
     "output_type": "stream",
     "text": [
      "55\n"
     ]
    }
   ],
   "source": [
    "num = int(input(\"Enter number: \"))\n",
    "sum = 0\n",
    "for i in range(1, num+1):\n",
    "    sum = i**2 + sum\n",
    "\n",
    "print(sum)"
   ]
  },
  {
   "cell_type": "markdown",
   "metadata": {},
   "source": [
    "# Write a program to check wether number is prime or not"
   ]
  },
  {
   "cell_type": "code",
   "execution_count": 9,
   "metadata": {},
   "outputs": [
    {
     "name": "stdout",
     "output_type": "stream",
     "text": [
      "Prime\n"
     ]
    }
   ],
   "source": [
    "num = int(input(\"Enter number: \"))\n",
    "count = 0\n",
    "for i in range(2, num):\n",
    "    if num%i == 0:\n",
    "        count = count + 1\n",
    "        break # break the loop\n",
    "\n",
    "if count == 0:\n",
    "    print(\"Prime\")\n",
    "else:\n",
    "    print(\"Not prime\")"
   ]
  },
  {
   "cell_type": "markdown",
   "metadata": {},
   "source": []
  },
  {
   "cell_type": "code",
   "execution_count": 5,
   "metadata": {},
   "outputs": [
    {
     "name": "stdout",
     "output_type": "stream",
     "text": [
      "13\n"
     ]
    }
   ],
   "source": [
    "n = 10\n",
    "sum = 5\n",
    "for i in range(n+1): \n",
    "    if (i%3 == 0): \n",
    "\t    sum = sum + i \n",
    "else: \n",
    "    sum = sum - i \n",
    "\n",
    "print (sum)"
   ]
  },
  {
   "cell_type": "markdown",
   "metadata": {},
   "source": [
    "# Nested For loop\n",
    "* Write a program to print multiplication table of 1 to 10"
   ]
  },
  {
   "cell_type": "code",
   "execution_count": 1,
   "metadata": {},
   "outputs": [
    {
     "name": "stdout",
     "output_type": "stream",
     "text": [
      "1 *  1  =  1\n",
      "1 *  2  =  2\n",
      "1 *  3  =  3\n",
      "1 *  4  =  4\n",
      "1 *  5  =  5\n",
      "1 *  6  =  6\n",
      "1 *  7  =  7\n",
      "1 *  8  =  8\n",
      "1 *  9  =  9\n",
      "1 *  10  =  10\n",
      "2 *  1  =  2\n",
      "2 *  2  =  4\n",
      "2 *  3  =  6\n",
      "2 *  4  =  8\n",
      "2 *  5  =  10\n",
      "2 *  6  =  12\n",
      "2 *  7  =  14\n",
      "2 *  8  =  16\n",
      "2 *  9  =  18\n",
      "2 *  10  =  20\n",
      "3 *  1  =  3\n",
      "3 *  2  =  6\n",
      "3 *  3  =  9\n",
      "3 *  4  =  12\n",
      "3 *  5  =  15\n",
      "3 *  6  =  18\n",
      "3 *  7  =  21\n",
      "3 *  8  =  24\n",
      "3 *  9  =  27\n",
      "3 *  10  =  30\n",
      "4 *  1  =  4\n",
      "4 *  2  =  8\n",
      "4 *  3  =  12\n",
      "4 *  4  =  16\n",
      "4 *  5  =  20\n",
      "4 *  6  =  24\n",
      "4 *  7  =  28\n",
      "4 *  8  =  32\n",
      "4 *  9  =  36\n",
      "4 *  10  =  40\n",
      "5 *  1  =  5\n",
      "5 *  2  =  10\n",
      "5 *  3  =  15\n",
      "5 *  4  =  20\n",
      "5 *  5  =  25\n",
      "5 *  6  =  30\n",
      "5 *  7  =  35\n",
      "5 *  8  =  40\n",
      "5 *  9  =  45\n",
      "5 *  10  =  50\n",
      "6 *  1  =  6\n",
      "6 *  2  =  12\n",
      "6 *  3  =  18\n",
      "6 *  4  =  24\n",
      "6 *  5  =  30\n",
      "6 *  6  =  36\n",
      "6 *  7  =  42\n",
      "6 *  8  =  48\n",
      "6 *  9  =  54\n",
      "6 *  10  =  60\n",
      "7 *  1  =  7\n",
      "7 *  2  =  14\n",
      "7 *  3  =  21\n",
      "7 *  4  =  28\n",
      "7 *  5  =  35\n",
      "7 *  6  =  42\n",
      "7 *  7  =  49\n",
      "7 *  8  =  56\n",
      "7 *  9  =  63\n",
      "7 *  10  =  70\n",
      "8 *  1  =  8\n",
      "8 *  2  =  16\n",
      "8 *  3  =  24\n",
      "8 *  4  =  32\n",
      "8 *  5  =  40\n",
      "8 *  6  =  48\n",
      "8 *  7  =  56\n",
      "8 *  8  =  64\n",
      "8 *  9  =  72\n",
      "8 *  10  =  80\n",
      "9 *  1  =  9\n",
      "9 *  2  =  18\n",
      "9 *  3  =  27\n",
      "9 *  4  =  36\n",
      "9 *  5  =  45\n",
      "9 *  6  =  54\n",
      "9 *  7  =  63\n",
      "9 *  8  =  72\n",
      "9 *  9  =  81\n",
      "9 *  10  =  90\n",
      "10 *  1  =  10\n",
      "10 *  2  =  20\n",
      "10 *  3  =  30\n",
      "10 *  4  =  40\n",
      "10 *  5  =  50\n",
      "10 *  6  =  60\n",
      "10 *  7  =  70\n",
      "10 *  8  =  80\n",
      "10 *  9  =  90\n",
      "10 *  10  =  100\n"
     ]
    }
   ],
   "source": [
    "for i in range(1, 11):\n",
    "    for j in range(1, 11):\n",
    "        print(i , \"* \", j, \" = \", i*j)"
   ]
  },
  {
   "cell_type": "markdown",
   "metadata": {},
   "source": [
    "# Write a program to print multiplication table of 1 to 10 in reverse order"
   ]
  },
  {
   "cell_type": "code",
   "execution_count": 2,
   "metadata": {},
   "outputs": [
    {
     "name": "stdout",
     "output_type": "stream",
     "text": [
      "10 *  1  =  10\n",
      "10 *  2  =  20\n",
      "10 *  3  =  30\n",
      "10 *  4  =  40\n",
      "10 *  5  =  50\n",
      "10 *  6  =  60\n",
      "10 *  7  =  70\n",
      "10 *  8  =  80\n",
      "10 *  9  =  90\n",
      "10 *  10  =  100\n",
      "9 *  1  =  9\n",
      "9 *  2  =  18\n",
      "9 *  3  =  27\n",
      "9 *  4  =  36\n",
      "9 *  5  =  45\n",
      "9 *  6  =  54\n",
      "9 *  7  =  63\n",
      "9 *  8  =  72\n",
      "9 *  9  =  81\n",
      "9 *  10  =  90\n",
      "8 *  1  =  8\n",
      "8 *  2  =  16\n",
      "8 *  3  =  24\n",
      "8 *  4  =  32\n",
      "8 *  5  =  40\n",
      "8 *  6  =  48\n",
      "8 *  7  =  56\n",
      "8 *  8  =  64\n",
      "8 *  9  =  72\n",
      "8 *  10  =  80\n",
      "7 *  1  =  7\n",
      "7 *  2  =  14\n",
      "7 *  3  =  21\n",
      "7 *  4  =  28\n",
      "7 *  5  =  35\n",
      "7 *  6  =  42\n",
      "7 *  7  =  49\n",
      "7 *  8  =  56\n",
      "7 *  9  =  63\n",
      "7 *  10  =  70\n",
      "6 *  1  =  6\n",
      "6 *  2  =  12\n",
      "6 *  3  =  18\n",
      "6 *  4  =  24\n",
      "6 *  5  =  30\n",
      "6 *  6  =  36\n",
      "6 *  7  =  42\n",
      "6 *  8  =  48\n",
      "6 *  9  =  54\n",
      "6 *  10  =  60\n",
      "5 *  1  =  5\n",
      "5 *  2  =  10\n",
      "5 *  3  =  15\n",
      "5 *  4  =  20\n",
      "5 *  5  =  25\n",
      "5 *  6  =  30\n",
      "5 *  7  =  35\n",
      "5 *  8  =  40\n",
      "5 *  9  =  45\n",
      "5 *  10  =  50\n",
      "4 *  1  =  4\n",
      "4 *  2  =  8\n",
      "4 *  3  =  12\n",
      "4 *  4  =  16\n",
      "4 *  5  =  20\n",
      "4 *  6  =  24\n",
      "4 *  7  =  28\n",
      "4 *  8  =  32\n",
      "4 *  9  =  36\n",
      "4 *  10  =  40\n",
      "3 *  1  =  3\n",
      "3 *  2  =  6\n",
      "3 *  3  =  9\n",
      "3 *  4  =  12\n",
      "3 *  5  =  15\n",
      "3 *  6  =  18\n",
      "3 *  7  =  21\n",
      "3 *  8  =  24\n",
      "3 *  9  =  27\n",
      "3 *  10  =  30\n",
      "2 *  1  =  2\n",
      "2 *  2  =  4\n",
      "2 *  3  =  6\n",
      "2 *  4  =  8\n",
      "2 *  5  =  10\n",
      "2 *  6  =  12\n",
      "2 *  7  =  14\n",
      "2 *  8  =  16\n",
      "2 *  9  =  18\n",
      "2 *  10  =  20\n",
      "1 *  1  =  1\n",
      "1 *  2  =  2\n",
      "1 *  3  =  3\n",
      "1 *  4  =  4\n",
      "1 *  5  =  5\n",
      "1 *  6  =  6\n",
      "1 *  7  =  7\n",
      "1 *  8  =  8\n",
      "1 *  9  =  9\n",
      "1 *  10  =  10\n"
     ]
    }
   ],
   "source": [
    "for i in range(10, 0, -1):\n",
    "    for j in range(1, 11):\n",
    "        print(i , \"* \", j, \" = \", i*j)"
   ]
  },
  {
   "cell_type": "markdown",
   "metadata": {},
   "source": [
    "# Write a program to print the series till the range entered by the user:\n",
    "1 + 3 + 5 + 7 + 9 + 11 + 13 + 15 + 17 + 19 = 100"
   ]
  },
  {
   "cell_type": "code",
   "execution_count": 2,
   "metadata": {},
   "outputs": [
    {
     "name": "stdout",
     "output_type": "stream",
     "text": [
      "1  + 3  + 5  + 7  + 9  + 11  + 13  + 15  + 17  + 19 =  100\n"
     ]
    }
   ],
   "source": [
    "num = int(input(\"Enter number: \"))\n",
    "sum = 0\n",
    "for i in range(1, num+1, 2):\n",
    "    if i < num-1:\n",
    "        print(i, \" + \",  end=\"\")\n",
    "        sum = sum + i\n",
    "    else:\n",
    "        print(i, end=\"\")\n",
    "        sum = sum + i\n",
    "\n",
    "print(\" = \", sum)"
   ]
  },
  {
   "cell_type": "markdown",
   "metadata": {},
   "source": [
    "# Write a program to print the series till the range entered by the user:\n",
    "1! + 2! + 3! + 4! + 5! + 6! + 7! + 8! + 9! + 10!"
   ]
  },
  {
   "cell_type": "code",
   "execution_count": 7,
   "metadata": {},
   "outputs": [
    {
     "name": "stdout",
     "output_type": "stream",
     "text": [
      "1 !  + 2 !  + 3 !  + 4 !  + 5 !  + 6 !  + 7 !  + 8 !  + 9 !  + 10 !\n"
     ]
    }
   ],
   "source": [
    "num = int(input(\"Enter number: \"))\n",
    "for i in range(1, num+1):\n",
    "    if i < num:\n",
    "        print(i, \"!\", \" + \", end = \"\")\n",
    "    else:\n",
    "        print(i, \"!\")"
   ]
  },
  {
   "cell_type": "markdown",
   "metadata": {},
   "source": [
    "# Write a program to print the series till the range entered by the user:\n",
    "1/1 + 1/2 + 1/3 + 1/4 + 1/5 + 1/6 + 1/7 + 1/8 + 1/9 + 1/10"
   ]
  },
  {
   "cell_type": "code",
   "execution_count": 16,
   "metadata": {},
   "outputs": [
    {
     "name": "stdout",
     "output_type": "stream",
     "text": [
      "1 / 1 + 1 / 2 + 1 / 3 + 1 / 4 + 1 / 5 + 1 / 6 + 1 / 7 + 1 / 8 + 1 / 9 + 1 / 10\n"
     ]
    }
   ],
   "source": [
    "num = int(input(\"Enter number: \"))\n",
    "for i in range(1, num+1):\n",
    "    if i < num:\n",
    "        print(\"1\", \" / \", i, \" + \", end=\"\", sep=\"\")\n",
    "    else:\n",
    "        print(\"1\", \" / \", i, sep=\"\")"
   ]
  },
  {
   "cell_type": "markdown",
   "metadata": {},
   "source": [
    "# Write a program to print the series till the range entered by the user:\n",
    "1 + 1/2 + 1/4 + 1/6 + 1/8 + 1/10"
   ]
  },
  {
   "cell_type": "code",
   "execution_count": 17,
   "metadata": {},
   "outputs": [
    {
     "name": "stdout",
     "output_type": "stream",
     "text": [
      "1/0 + 1/2 + 1/4 + 1/6 + 1/8 + 1/10"
     ]
    }
   ],
   "source": [
    "num = int(input(\"Enter the number: \"))\n",
    "for i in range(0, num+1):\n",
    "    if i%2 == 0:\n",
    "        if i < num:\n",
    "            print(1, \"/\", i, \" + \", end=\"\", sep=\"\")\n",
    "        else:\n",
    "            print(1, \"/\", i, end=\"\", sep=\"\")"
   ]
  },
  {
   "cell_type": "markdown",
   "metadata": {},
   "source": [
    "# Write a program to print the series till the range entered by the user:\n",
    "1/1! + 1/2! + 1/3! + 1/4! + 1/5! + 1/6! + 1/7! + 1/8! + 1/9! + 1/10!"
   ]
  },
  {
   "cell_type": "code",
   "execution_count": 20,
   "metadata": {},
   "outputs": [
    {
     "name": "stdout",
     "output_type": "stream",
     "text": [
      "1/1! + 1/2! + 1/3! + 1/4! + 1/5! + 1/6! + 1/7! + 1/8! + 1/9! + 1/10!\n"
     ]
    }
   ],
   "source": [
    "num = int(input(\"Enter number: \"))\n",
    "for i in range(1, num+1):\n",
    "    if i < num: \n",
    "        print(1, \"/\", i, \"!\", \" + \", end=\"\", sep=\"\")\n",
    "    else:\n",
    "        print(1, \"/\", i, \"!\", sep=\"\")"
   ]
  },
  {
   "cell_type": "markdown",
   "metadata": {},
   "source": [
    "# Write a program to print the series till the range entered by the user:\n",
    "1!/1 + 2!/2 + 3!/3 + 4!/4 + 5!/5 + 6!/6 + 7!/7 + 8!/8 + 9!/9 + 10!/10"
   ]
  },
  {
   "cell_type": "markdown",
   "metadata": {},
   "source": []
  },
  {
   "cell_type": "markdown",
   "metadata": {},
   "source": [
    "# Write a program to print the series till the range entered by the user:\n",
    "1! + 2! + 3! + 4! + 5! + 6! + 7! + 8! + 9! + 10! = m"
   ]
  },
  {
   "cell_type": "code",
   "execution_count": 6,
   "metadata": {},
   "outputs": [
    {
     "name": "stdout",
     "output_type": "stream",
     "text": [
      "1! + 2! + 3! =  9\n"
     ]
    }
   ],
   "source": [
    "num = int(input(\"Enter number: \"))\n",
    "sum = 0\n",
    "for i in range(1, num+1):\n",
    "    fact = 1\n",
    "    for j in range(1, i+1):\n",
    "        fact = fact * j\n",
    "    sum = sum + fact\n",
    "    if i < num:\n",
    "        print(i, \"! + \", end=\"\", sep=\"\")\n",
    "    else:\n",
    "        print(i, \"!\", end=\"\", sep=\"\")\n",
    "\n",
    "print(\" = \", sum)"
   ]
  },
  {
   "cell_type": "markdown",
   "metadata": {},
   "source": [
    "# Write a program to print the pattern till the range entered by the user:\n",
    "*\n",
    "**\n",
    "***\n",
    "****"
   ]
  },
  {
   "cell_type": "code",
   "execution_count": 8,
   "metadata": {},
   "outputs": [
    {
     "name": "stdout",
     "output_type": "stream",
     "text": [
      "*\n",
      "**\n",
      "***\n",
      "****\n",
      "*****\n"
     ]
    }
   ],
   "source": [
    "num = int(input(\"Enter number: \"))\n",
    "for i in range(num+1):\n",
    "    for j in range(i+1):\n",
    "        print(\"*\", end = \"\")\n",
    "    print()"
   ]
  },
  {
   "cell_type": "markdown",
   "metadata": {},
   "source": [
    "# Write a program to print the pattern till the range entered by the user:\n",
    "****\n",
    "***\n",
    "**\n",
    "*"
   ]
  },
  {
   "cell_type": "code",
   "execution_count": 9,
   "metadata": {},
   "outputs": [
    {
     "name": "stdout",
     "output_type": "stream",
     "text": [
      "******\n",
      "*****\n",
      "****\n",
      "***\n",
      "**\n",
      "*\n",
      "\n"
     ]
    }
   ],
   "source": [
    "num = int(input(\"Enter number: \"))\n",
    "for i in range(num+1):\n",
    "    for j in range(num-i):\n",
    "        print(\"*\", end = \"\")\n",
    "    print()"
   ]
  },
  {
   "cell_type": "code",
   "execution_count": 10,
   "metadata": {},
   "outputs": [
    {
     "name": "stdout",
     "output_type": "stream",
     "text": [
      "*\n",
      "**\n",
      "***\n",
      "****\n",
      "*****\n",
      "******\n",
      "*****\n",
      "****\n",
      "***\n",
      "**\n",
      "*\n",
      "\n"
     ]
    }
   ],
   "source": [
    "num = int(input(\"Enter number: \"))\n",
    "for i in range(num+1):\n",
    "    for j in range(i+1):\n",
    "        print(\"*\", end=\"\")\n",
    "    print()\n",
    "for i in range(num+1):\n",
    "    for j in range(num-i):\n",
    "        print(\"*\", end=\"\")\n",
    "    print()"
   ]
  },
  {
   "cell_type": "markdown",
   "metadata": {},
   "source": [
    "# While Loops\n",
    "* Used when we don't know the number of iterations\n",
    "* Used when we want to iterate over a block of code as long as the test expression (condition) is true\n",
    "* Syntax:\n",
    "    * while condition:\n",
    "        * statement(s)"
   ]
  },
  {
   "cell_type": "markdown",
   "metadata": {},
   "source": [
    "# WAP to print the Fibonacci series till the range entered by the user:\n",
    "0, 1, 1, 2, 3, 5, 8, 13, 21, 34, 55"
   ]
  },
  {
   "cell_type": "code",
   "execution_count": 4,
   "metadata": {},
   "outputs": [
    {
     "name": "stdout",
     "output_type": "stream",
     "text": [
      "0, 1, 1, 2, 3, 5, 8, 13, 21, 34, 55, "
     ]
    }
   ],
   "source": [
    "# using while loop\n",
    "num = int(input(\"Enter number: \"))\n",
    "a = 0\n",
    "b = 1\n",
    "sum = 0\n",
    "print(a,\", \", b, end=\", \", sep=\"\")\n",
    "while sum < num:\n",
    "    sum = a + b\n",
    "    a = b\n",
    "    b = sum\n",
    "    print(sum, end=\", \")"
   ]
  },
  {
   "cell_type": "code",
   "execution_count": 6,
   "metadata": {},
   "outputs": [
    {
     "name": "stdout",
     "output_type": "stream",
     "text": [
      "0 , 1 ,1, 2, 3, 5, 8, 13, 21, 34, 55, 89, "
     ]
    }
   ],
   "source": [
    "# using for loop\n",
    "num = int(input(\"Enter number: \"))\n",
    "a = 0\n",
    "b = 1\n",
    "sum = 0\n",
    "print(a, \",\", b, \",\", end=\"\")\n",
    "for i in range(num):\n",
    "    sum = a + b\n",
    "    a = b \n",
    "    b = sum\n",
    "    print(sum, end=\", \")"
   ]
  },
  {
   "cell_type": "markdown",
   "metadata": {},
   "source": [
    "# WAP to to reverse a given string\n",
    "* Note: Use while loop\n",
    "* String = \"Python\"\n",
    "* Reverse String = \"nohtyP\""
   ]
  },
  {
   "cell_type": "code",
   "execution_count": 4,
   "metadata": {},
   "outputs": [
    {
     "name": "stdout",
     "output_type": "stream",
     "text": [
      "t\n",
      "Navnee\n",
      "6\n",
      "e\n",
      "Navne\n",
      "5\n",
      "e\n",
      "Navn\n",
      "4\n",
      "n\n",
      "Nav\n",
      "3\n",
      "v\n",
      "Na\n",
      "2\n",
      "a\n",
      "N\n",
      "1\n",
      "N\n",
      "\n",
      "0\n"
     ]
    }
   ],
   "source": [
    "# Reverse a string using while loop\n",
    "str = input(\"Enter string: \")\n",
    "while len(str) > 0:\n",
    "    print(str[-1], end=\"\")\n",
    "    str = str[0:-1]\n",
    "    print()\n",
    "    print(str)\n",
    "    print(len(str))"
   ]
  },
  {
   "cell_type": "code",
   "execution_count": 7,
   "metadata": {},
   "outputs": [
    {
     "name": "stdout",
     "output_type": "stream",
     "text": [
      "21\n",
      "yob doog a si teenvaN"
     ]
    }
   ],
   "source": [
    "sentence = input(\"Enter sentence: \")\n",
    "length = len(sentence)\n",
    "print(length)\n",
    "while length-1 >= 0:\n",
    "    print(sentence[length-1], end=\"\")\n",
    "    length = length - 1"
   ]
  },
  {
   "cell_type": "code",
   "execution_count": null,
   "metadata": {},
   "outputs": [],
   "source": []
  },
  {
   "cell_type": "code",
   "execution_count": 8,
   "metadata": {},
   "outputs": [
    {
     "name": "stdout",
     "output_type": "stream",
     "text": [
      "NA\n"
     ]
    }
   ],
   "source": [
    "name = \"NATASHA\"\n",
    "print(name[0:-5])"
   ]
  },
  {
   "cell_type": "code",
   "execution_count": 12,
   "metadata": {},
   "outputs": [
    {
     "name": "stdout",
     "output_type": "stream",
     "text": [
      "teenva"
     ]
    }
   ],
   "source": [
    "# using for loop\n",
    "str = input(\"Enter string: \")\n",
    "for i in range(len(str)-1, -1, -1):\n",
    "    print(str[i], end=\"\")"
   ]
  },
  {
   "cell_type": "code",
   "execution_count": 12,
   "metadata": {},
   "outputs": [
    {
     "name": "stdout",
     "output_type": "stream",
     "text": [
      "boy good a is Navneet "
     ]
    }
   ],
   "source": [
    "sentence = input(\"Enter sentence: \")\n",
    "str = sentence.split(\" \")\n",
    "length = len(str)\n",
    "while length - 1 > -1:\n",
    "    print(str[length - 1], end=\" \")\n",
    "    length = length - 1"
   ]
  },
  {
   "cell_type": "code",
   "execution_count": null,
   "metadata": {},
   "outputs": [],
   "source": []
  }
 ],
 "metadata": {
  "kernelspec": {
   "display_name": "Python 3",
   "language": "python",
   "name": "python3"
  },
  "language_info": {
   "codemirror_mode": {
    "name": "ipython",
    "version": 3
   },
   "file_extension": ".py",
   "mimetype": "text/x-python",
   "name": "python",
   "nbconvert_exporter": "python",
   "pygments_lexer": "ipython3",
   "version": "3.10.9"
  },
  "orig_nbformat": 4
 },
 "nbformat": 4,
 "nbformat_minor": 2
}
